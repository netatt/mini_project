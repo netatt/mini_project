{
  "cells": [
    {
      "cell_type": "markdown",
      "metadata": {
        "id": "w5KhVeeYrJHX"
      },
      "source": [
        "**Part 1**\n",
        "\n",
        "**Q1**\n",
        "\n",
        "**A)**\n",
        "Covariance an correlation are both a measure of the connection between two random variables.\n",
        "Covariance show how thw two variables depend on each other while correlation show how they relate.\n",
        "Furthermore, correlation shows not only the direction of the relationship (like covariance), but also the strength of the relation.\n",
        "\n",
        "$$\n",
        "CoV(X,Y) = \\frac{Σ(Xᵢ-X̄)(Yⱼ-Ȳ)}{n}\n",
        "$$\n",
        "\n",
        "$$\n",
        "r = \\frac{CoV(X,Y)}{σ _x σ _y}\n",
        "$$\n",
        "\n",
        "\n",
        "\n"
      ]
    },
    {
      "cell_type": "markdown",
      "metadata": {
        "id": "JCyUN-DOvpSy"
      },
      "source": [
        "**B)**\n",
        "* Load the Iris dataset.\n",
        "* Visualization to explore the relationship between the different features."
      ]
    },
    {
      "cell_type": "code",
      "execution_count": null,
      "metadata": {
        "colab": {
          "base_uri": "https://localhost:8080/",
          "height": 300
        },
        "id": "AwcHQKGMvrq7",
        "outputId": "6f6a74bc-ebc1-4484-e2b2-88799d4d12fe"
      },
      "outputs": [
        {
          "ename": "",
          "evalue": "",
          "output_type": "error",
          "traceback": [
            "\u001b[1;31mThe kernel failed to start as the Python Environment 'Python 3.6.6' is no longer available. Consider selecting another kernel or refreshing the list of Python Environments."
          ]
        }
      ],
      "source": [
        "import seaborn as sns\n",
        "import matplotlib.pyplot as plt\n",
        "\n",
        "# Load the iris dataset\n",
        "iris_df = sns.load_dataset(\"iris\")\n",
        "\n",
        "# Describe the dataset to have a vision of what's in the dataset\n",
        "iris_df.describe()"
      ]
    },
    {
      "cell_type": "code",
      "execution_count": null,
      "metadata": {
        "colab": {
          "base_uri": "https://localhost:8080/",
          "height": 241
        },
        "id": "BY5GRAl21K0K",
        "outputId": "c6450af8-b76e-4a61-bb0c-c6e3dd75d540"
      },
      "outputs": [],
      "source": [
        "# Learn the type of each column\n",
        "iris_df.dtypes"
      ]
    },
    {
      "cell_type": "code",
      "execution_count": null,
      "metadata": {
        "colab": {
          "base_uri": "https://localhost:8080/",
          "height": 1000
        },
        "id": "hFCJzD3gz44G",
        "outputId": "11422d21-d918-4185-b04b-1d449b8ee1b7"
      },
      "outputs": [],
      "source": [
        "# Visulaize the dataset using pairplot (colors by species) to get a better vision of the relations in the data.\n",
        "iris_df.species.value_counts()\n",
        "sns.pairplot(iris_df, hue=\"species\")"
      ]
    },
    {
      "cell_type": "markdown",
      "metadata": {
        "id": "mL78j4kD1UUF"
      },
      "source": [
        "**C)** Implement the following functions:\n",
        "\n",
        "**a.** A function to calculate the covariance between two variables\n",
        "\n",
        "A reminder:\n",
        "\n",
        "$$\n",
        "CoV(X,Y) = \\frac{Σ(Xᵢ-X̄)(Yⱼ-Ȳ)}{n}\n",
        "$$\n"
      ]
    },
    {
      "cell_type": "code",
      "execution_count": null,
      "metadata": {
        "colab": {
          "base_uri": "https://localhost:8080/"
        },
        "id": "5xUIRzzO1hAs",
        "outputId": "e908903e-138c-424b-a1d0-fdf8c4e0867c"
      },
      "outputs": [],
      "source": [
        "# Create a Covariance function\n",
        "def calcCov(x, y):\n",
        "  # Initialaize a sum varable\n",
        "  sum = 0\n",
        "  # A loop, for every index- claculate the differnece between Xi and the mean of x times Yi and the mean of y\n",
        "  for i in range(len(x)):\n",
        "    # Add the result of the multiplication to the sum variable\n",
        "    sum += (x[i] - x.mean()) * (y[i] - y.mean())\n",
        "  # Calculate the covariance by the total sum devided by n\n",
        "  cov = sum / (len(x) - 1)\n",
        "  # Return the covariance value between two variables\n",
        "  return cov\n",
        "\n",
        "# Example of a use to the function:\n",
        "# Calculate the covariance between sepal_length and sepal_width\n",
        "cov_len_wid = calcCov(iris_df.sepal_length, iris_df.sepal_width)\n",
        "print(cov_len_wid)"
      ]
    },
    {
      "cell_type": "markdown",
      "metadata": {
        "id": "UaYd2Y-g1ltu"
      },
      "source": [
        "**b.** A function to compute the Covariance matrix"
      ]
    },
    {
      "cell_type": "code",
      "execution_count": null,
      "metadata": {
        "colab": {
          "base_uri": "https://localhost:8080/"
        },
        "id": "-WIya9AS8y-S",
        "outputId": "53fbb1c6-db80-480c-981a-01ca29b50c33"
      },
      "outputs": [],
      "source": [
        "import pandas as pd\n",
        "\n",
        "# Create a function that outpus covariance matrix\n",
        "def covMat(data):\n",
        "  # Initialaize a matrix\n",
        "  matrix = [[0.0 for _ in range(len(data.columns)-1)] for _ in range(len(data.columns)-1)]\n",
        "  # A loop, run over the numerical columns (I know its [:-1] because I checked with df.dtypes)\n",
        "  for i in range(len(data.columns)-1):\n",
        "    for j in range(len(data.columns)-1):\n",
        "      # Create x and y to check covariance\n",
        "      x = data.iloc[:, i]\n",
        "      y = data.iloc[:, j]\n",
        "      # Add the covariance to the appropriate position in the matrix\n",
        "      matrix[i][j] = calcCov(x, y)\n",
        "    # Define the columns and index of the covmat by the shape of the df without the non numerical columns\n",
        "    column_names = data.columns[:-1]\n",
        "  # Return a dataframe (table) of the matrix\n",
        "  return pd.DataFrame(matrix, columns=column_names, index=column_names)\n",
        "\n",
        "covmat = covMat(iris_df)\n",
        "print(covmat)"
      ]
    },
    {
      "cell_type": "markdown",
      "metadata": {
        "id": "2SUhu9Hf4U39"
      },
      "source": [
        "**D)** Test1\n",
        "\n",
        "* **a.** Using np.cov I got a marix of 2X2.\n",
        "\n",
        "  The diagonal shows the variance of each variable alone. Off-diagonal shows the covariance.\n",
        "\n",
        " * *The covariance using np.cov is the same as the coveriance using calcCov.*\n",
        "\n",
        "* **b.** Using np.cov I got a 4x4 matrix of covariance.\n",
        "\n",
        "  * *The covariance matrix using np.cov is the same as the coveriance using covMat.*\n",
        "\n",
        "Test1 <font color=\"green\"> ☑ </font>\n",
        "\n"
      ]
    },
    {
      "cell_type": "code",
      "execution_count": null,
      "metadata": {
        "colab": {
          "base_uri": "https://localhost:8080/"
        },
        "id": "1J8Ecu5w4XoG",
        "outputId": "1053da8b-1e72-415e-daa4-90e394efdcab"
      },
      "outputs": [],
      "source": [
        "import numpy as np\n",
        "\n",
        "# a) Test calcCov, using np.cov with the variables sepal length and sepal width\n",
        "cov_test= np.cov(iris_df.sepal_length, iris_df.sepal_width, rowvar = False)\n",
        "print(cov_test)\n",
        "\n",
        "# b) Test covMat, using np.cov over iris_df\n",
        "# Because there is a column of object ('species') I need to adress only the numerical columns\n",
        "numiris_df = iris_df.select_dtypes(include=np.number)\n",
        "covmat_test = np.cov(numiris_df, rowvar = False)\n",
        "print(covmat_test)"
      ]
    },
    {
      "cell_type": "markdown",
      "metadata": {
        "id": "Yj--GkT1J4f1"
      },
      "source": [
        "**E)** Using the covariance function, implement a function to calculate the correlation matrix\n",
        "\n",
        "A reminder:\n",
        "$$\n",
        "r = \\frac{CoV(X,Y)}{σ _x σ _y}\n",
        "$$"
      ]
    },
    {
      "cell_type": "code",
      "execution_count": null,
      "metadata": {
        "colab": {
          "base_uri": "https://localhost:8080/"
        },
        "id": "8Sdwo3UvKPKD",
        "outputId": "75a97e1c-6082-4919-b601-e76dddbad8f6"
      },
      "outputs": [],
      "source": [
        "# Create a function that returns a correlation matrix\n",
        "def corrMat(data):\n",
        "  matrix = [[0.0 for _ in range(len(data.columns)-1)] for _ in range(len(data.columns)-1)]\n",
        "  # A loop, run over the numerical columns (I know its [:-1] because I checked with df.dtypes)\n",
        "  for i in range(len(data.columns)-1):\n",
        "    for j in range(len(data.columns)-1):\n",
        "      # Create x and y to check correlation\n",
        "      x = data.iloc[:, i]\n",
        "      y = data.iloc[:, j]\n",
        "      column_names = data.columns[:-1]\n",
        "      # change the value to the correlation in the appropriate position in the matrix\n",
        "      matrix[i][j] = (covMat(data).loc[column_names[i], column_names[j]]) / (x.std() * y.std())\n",
        "  # Return a dataframe (table) of the matrix\n",
        "  return pd.DataFrame(matrix, columns=column_names, index=column_names)\n",
        "\n",
        "corrmat = corrMat(iris_df)\n",
        "print(corrmat)"
      ]
    },
    {
      "cell_type": "markdown",
      "metadata": {
        "id": "4iFaVlzQALYw"
      },
      "source": [
        "**F)** Test2\n",
        "\n",
        "* Using np.corrcoef I got a marix of 4x4.\n",
        "\n",
        " * *The correlation using np.corrcoef is the same as the correlation matrix using corrMat\n",
        " .*\n",
        "\n",
        "Test2 <font color=\"green\"> ☑ </font>\n",
        "\n"
      ]
    },
    {
      "cell_type": "code",
      "execution_count": null,
      "metadata": {
        "colab": {
          "base_uri": "https://localhost:8080/"
        },
        "id": "FHQOUhVQAh5v",
        "outputId": "c81cc5f5-87fe-4bdb-f35f-29ce770c6f97"
      },
      "outputs": [],
      "source": [
        "# Because there is a column of object ('species') I need to adress only the numerical columns\n",
        "# I will use the data numiris_df, a variable created in section D.b.\n",
        "corrmat_test = np.corrcoef(numiris_df, rowvar = False)\n",
        "print(corrmat_test)\n"
      ]
    },
    {
      "cell_type": "markdown",
      "metadata": {
        "id": "UFCpq023BsvR"
      },
      "source": [
        "**G)** Visualizations of:\n",
        "* Covariance matrix\n",
        "* Correlation matrix"
      ]
    },
    {
      "cell_type": "code",
      "execution_count": null,
      "metadata": {
        "colab": {
          "base_uri": "https://localhost:8080/",
          "height": 497
        },
        "id": "w49m_nHlCD4w",
        "outputId": "8a03d317-a761-40da-eea0-45173bb90854"
      },
      "outputs": [],
      "source": [
        "# Create a figure of two heatmaps side by side\n",
        "fig, axes = plt.subplots(1, 2, figsize=(10, 5))\n",
        "\n",
        "# Create a dictionary, key = title, value = variable to plot\n",
        "matrices = {'Covariance': covmat, 'Correlation': corrmat}\n",
        "# A loop to run over the dictionary and plot as heatmap both variables\n",
        "for i, (title, matrix) in enumerate(matrices.items()):\n",
        "    sns.heatmap(matrix, vmax=.8, square=True, annot=True, fmt='.2f',\n",
        "                annot_kws={'size': 10}, ax=axes[i])\n",
        "    axes[i].set_title(f'{title} Matrix')\n",
        "\n",
        "plt.tight_layout()\n",
        "plt.show()"
      ]
    },
    {
      "cell_type": "markdown",
      "metadata": {
        "id": "RUtM0WsvV57U"
      },
      "source": [
        "**Part 2**\n",
        "\n",
        "**Q2**"
      ]
    },
    {
      "cell_type": "code",
      "execution_count": null,
      "metadata": {
        "colab": {
          "base_uri": "https://localhost:8080/"
        },
        "id": "wyMV1HOPZJwW",
        "outputId": "0df00d7b-efdf-48d7-f9e0-9d76872f7320"
      },
      "outputs": [],
      "source": [
        "from google.colab import drive\n",
        "drive.mount('/content/drive')"
      ]
    },
    {
      "cell_type": "code",
      "execution_count": null,
      "metadata": {
        "colab": {
          "base_uri": "https://localhost:8080/",
          "height": 300
        },
        "id": "PQ-DimrSNbUJ",
        "outputId": "71c45a54-3b46-4ac1-cb5e-a6b70e875b13"
      },
      "outputs": [],
      "source": [
        "# Import all nessecary libraries\n",
        "\n",
        "import numpy as np\n",
        "import pandas as pd\n",
        "import seaborn as sns\n",
        "import matplotlib.pyplot as plt\n",
        "import scipy.stats\n",
        "\n",
        "# import the data\n",
        "laptop_price = 'C:\\projectsadna\\mini_project1\\laptop_price - dataset.csv'\n",
        "laptop_df = pd.read_csv(laptop_price)\n",
        "\n",
        "# decribe the dataset\n",
        "laptop_df.describe()\n"
      ]
    },
    {
      "cell_type": "code",
      "execution_count": null,
      "metadata": {
        "colab": {
          "base_uri": "https://localhost:8080/",
          "height": 399
        },
        "id": "ZoT0XlopbqmQ",
        "outputId": "767ae9b0-9abf-46cf-913e-0c5e017e2530"
      },
      "outputs": [],
      "source": [
        "# print first 5 rows of the data\n",
        "laptop_df.head()"
      ]
    },
    {
      "cell_type": "markdown",
      "metadata": {
        "id": "lgqsPLnBN0Bv"
      },
      "source": [
        "**a)** Plot the price of all the laptops"
      ]
    },
    {
      "cell_type": "code",
      "execution_count": null,
      "metadata": {
        "colab": {
          "base_uri": "https://localhost:8080/",
          "height": 489
        },
        "id": "obxublpMb0UU",
        "outputId": "ae9b8c2c-ffda-4e0b-8ac3-7c9603a73dc8"
      },
      "outputs": [],
      "source": [
        "# Plot a histogram of all laptops price, x axes is the price and y axes is the frequency of that price\n",
        "plt.hist(laptop_df['Price (Euro)'])\n",
        "plt.title(\"Price of laptops\")\n",
        "plt.xlabel(\"Price\")\n",
        "plt.ylabel(\"Frequency\")"
      ]
    },
    {
      "cell_type": "markdown",
      "metadata": {
        "id": "ekfoj-30OOLX"
      },
      "source": [
        ":**b)** Which company has on average the most expensive laptop? What is the average laptop price for each company?"
      ]
    },
    {
      "cell_type": "code",
      "execution_count": null,
      "metadata": {
        "colab": {
          "base_uri": "https://localhost:8080/",
          "height": 568
        },
        "collapsed": true,
        "id": "QcIgM8pEdc1C",
        "outputId": "8b652e5f-a893-4d07-8bcf-043efad8a8b6"
      },
      "outputs": [],
      "source": [
        "# Create a list of all companies\n",
        "company = list(laptop_df['Company'].unique())\n",
        "\n",
        "# Create a dictionary where the key is the company name and the value is the mean proce for that company\n",
        "dict_avg = {}\n",
        "for i in company:\n",
        "  company_df = laptop_df.loc[laptop_df['Company'] == i]\n",
        "  dict_avg[i] = company_df['Price (Euro)'].mean()\n",
        "\n",
        "print(dict_avg)\n",
        "\n",
        "# Plot the averages\n",
        "plt.figure(figsize=(20, 8))\n",
        "plt.bar(dict_avg.keys(), dict_avg.values())\n",
        "plt.title(\"Average price of laptops per company\")\n",
        "plt.xlabel(\"Company\")\n",
        "plt.ylabel(\"Average price\")\n",
        "\n",
        "# Find the comapny with the highest average and what it is\n",
        "max_avg = max(dict_avg.values())\n",
        "max_company = max(dict_avg, key=dict_avg.get)\n",
        "print(max_company, \"has on average the most expensive laptop with an average of:\", max_avg)"
      ]
    },
    {
      "cell_type": "markdown",
      "metadata": {
        "id": "u2t_wCocOf4l"
      },
      "source": [
        "**c)** Find the different types of operating systems present in the data - under the column name \"OpSys\"\n",
        "* Please note,there are operating systems that are the same systems and just written differently in the column. please fix them to be uniform."
      ]
    },
    {
      "cell_type": "code",
      "execution_count": null,
      "metadata": {
        "colab": {
          "base_uri": "https://localhost:8080/"
        },
        "id": "d1t60n_8M3B-",
        "outputId": "a6244682-6a21-4d4a-d73b-0c3e9ce0debb"
      },
      "outputs": [],
      "source": [
        "# Identifying the different operating systems\n",
        "print(\"Old OpSys:\", laptop_df['OpSys'].unique())\n",
        "\n",
        "# All mac operating systems will be 'mac' and all windows operating systems will be 'windows'\n",
        "new_df = laptop_df.replace(['macOS', 'Mac OS X', 'Windows 10', 'Windows 10 S', 'Windows 7', 'No OS', 'Chrome OS'], ['Mac', 'Mac', 'Windows', 'Windows', 'Windows', 'None', 'Chrome' ])\n",
        "\n",
        "# Identifying the operating systems after the change\n",
        "print(\"\\nNew OpSys:\", new_df['OpSys'].unique())\n"
      ]
    },
    {
      "cell_type": "markdown",
      "metadata": {
        "id": "wRdRLKUsPJ5g"
      },
      "source": [
        "**d)** Plot for each of the operating system types the distribution of the prices, so that the number of plots equals to the number of of unique operating systems.\n"
      ]
    },
    {
      "cell_type": "code",
      "execution_count": null,
      "metadata": {
        "colab": {
          "base_uri": "https://localhost:8080/",
          "height": 771
        },
        "id": "WOHHpL8x8dR7",
        "outputId": "f61817ce-e03a-453c-85db-59813c92a931"
      },
      "outputs": [],
      "source": [
        "# Create a figure\n",
        "fig, axs = plt.subplots(2,3 , figsize=(18,10))\n",
        "fig.suptitle('Disribution of price according to OS', x=0.5, y=1, fontsize=18)\n",
        "# For each OS plot a histogram of prices\n",
        "for i, os in enumerate(new_df['OpSys'].unique()):\n",
        "  plt.subplot(2,3, i+1)\n",
        "  plt.hist(new_df.loc[new_df['OpSys'] == os]['Price (Euro)'])\n",
        "  plt.title(os)\n",
        "  plt.xlabel(\"Price\")\n",
        "  plt.ylabel(\"frequency\")\n"
      ]
    },
    {
      "cell_type": "markdown",
      "metadata": {
        "id": "625fPF-IPhsM"
      },
      "source": [
        "**e)** What is the relationship between RAM and computer price? add an adequent plot to support your findings.\n",
        "\n"
      ]
    },
    {
      "cell_type": "code",
      "execution_count": null,
      "metadata": {
        "colab": {
          "base_uri": "https://localhost:8080/",
          "height": 546
        },
        "id": "4sCf1xbD__wp",
        "outputId": "f1b77d2f-980e-4aa0-ad68-ec9b6a48d65c"
      },
      "outputs": [],
      "source": [
        "ram = laptop_df['RAM (GB)']\n",
        "price = laptop_df['Price (Euro)']\n",
        "\n",
        "corr = ram.corr(price)\n",
        "print(\"The correlation between RAM and computer price is:\", corr)\n",
        "\n",
        "sns.lmplot(x=\"RAM (GB)\", y=\"Price (Euro)\", data=laptop_df)\n",
        "plt.title(\"Correlation between RAM and price\")\n",
        "plt.show()"
      ]
    },
    {
      "cell_type": "markdown",
      "metadata": {
        "id": "FLkgeSURP4Qv"
      },
      "source": [
        "**f)** create a new column for the dataframe called \"storage type\" that extract the storage type from the column \"memory\"\n",
        "\n",
        "* for example, in the first row in the column \"memory\" it states \"128 SSD\", the new column will have just \"SSD\" in the first row."
      ]
    },
    {
      "cell_type": "code",
      "execution_count": null,
      "metadata": {
        "colab": {
          "base_uri": "https://localhost:8080/"
        },
        "id": "VBISRUF9BisU",
        "outputId": "05897606-7aa8-4b9b-d8c2-c8e20858c74f"
      },
      "outputs": [],
      "source": [
        "# Create to column, values are extracted from memory.\n",
        "\n",
        "# Create a new column called \"storage type\" by extracting all storage types from the \"Memory\" column\n",
        "laptop_df['storage type'] = laptop_df['Memory'].str.findall(r'(\\bSSD|\\bHDD|\\bFlash Storage|\\bHybrid|\\beMMC\\b)')\n",
        "\n",
        "# Remove duplicates from the list of storage types for each row\n",
        "laptop_df['storage type'] = laptop_df['storage type'].apply(lambda x: ' + '.join(list(dict.fromkeys(x))))\n",
        "\n",
        "# Print head to see if the result is what I wanted\n",
        "laptop_df.head()\n",
        "laptop_df['storage type'].unique()\n"
      ]
    },
    {
      "cell_type": "markdown",
      "metadata": {
        "id": "0wXcc0fHHFPJ"
      },
      "source": [
        "**Q3**\n",
        "\n",
        "Think of additional questions related to this data. What types of analyses and\n",
        "visualizations would you use to address them?\n",
        "\n",
        "Select two questions from your list and\n",
        "implement. Submit your list of questions, suggested analyses and visualizations and the\n",
        "implementation."
      ]
    },
    {
      "cell_type": "markdown",
      "metadata": {
        "id": "QfVjQV84HKVk"
      },
      "source": [
        "Additional questions:\n",
        "\n",
        "1. Does it effect the price if GPU company and CPU company for the same computer are not the same one?\n",
        "2. What is the avarage size of computer for each company?\n",
        "3. What is the correlation between RAM and CPU Type?\n",
        "4. Which CPU Company has the most expensive computer on average?"
      ]
    },
    {
      "cell_type": "markdown",
      "metadata": {
        "id": "bga568vtIgQa"
      },
      "source": [
        "**Which CPU Company has the most expensive computer on average?**"
      ]
    },
    {
      "cell_type": "code",
      "execution_count": null,
      "metadata": {
        "colab": {
          "base_uri": "https://localhost:8080/"
        },
        "id": "E1kJIDdYDA7O",
        "outputId": "d2fd8442-720c-4547-f453-90d8d1265d84"
      },
      "outputs": [],
      "source": [
        "# Create a list of all cpu companies\n",
        "cpu = list(laptop_df['CPU_Company'].unique())\n",
        "\n",
        "# Create a dictionary where the key is the company name and the value is the mean proce for that company\n",
        "dictcpu_avg = {}\n",
        "for i in cpu:\n",
        "  cpu_df = laptop_df.loc[laptop_df['CPU_Company'] == i]\n",
        "  dictcpu_avg[i] = cpu_df['Price (Euro)'].mean()\n",
        "\n",
        "# Find the comapny with the highest average and what it is\n",
        "max_avgcpu = max(dictcpu_avg.values())\n",
        "max_cpu = max(dictcpu_avg, key=dictcpu_avg.get)\n",
        "print(max_cpu, \"has on average the most expensive laptop with an average of:\", max_avgcpu)"
      ]
    },
    {
      "cell_type": "markdown",
      "metadata": {
        "id": "318gTaRPIqqa"
      },
      "source": [
        "**Does it effect the price if GPU company and CPU company for the same computer are not the same one?**"
      ]
    },
    {
      "cell_type": "code",
      "execution_count": null,
      "metadata": {
        "colab": {
          "base_uri": "https://localhost:8080/",
          "height": 551
        },
        "id": "50_JNZJMErTr",
        "outputId": "26575a21-69d7-496e-8c31-04e10a4fb523"
      },
      "outputs": [],
      "source": [
        "# Print the different CPU and GPU companies\n",
        "print(\"CPU:\", list(laptop_df['CPU_Company'].unique()))\n",
        "print(\"GPU:\", list(laptop_df['GPU_Company'].unique()))\n",
        "\n",
        "# Create a list of prices for the group that have the same company for CPU and GPU, and a list for the group that have differeny companies CPU and GPU\n",
        "price_diff = []\n",
        "price_same = []\n",
        "# Loop over all the rows\n",
        "for i in laptop_df.index:\n",
        "  # Check if the CPU and GPU companies are not the same, add them to the diff list\n",
        "  if laptop_df.loc[i, \"CPU_Company\"] != laptop_df.loc[i, \"GPU_Company\"]:\n",
        "    price_diff.append(laptop_df.loc[i, \"Price (Euro)\"])\n",
        "  # If there not different, add them to the same list\n",
        "  else:\n",
        "    price_same.append(laptop_df.loc[i, \"Price (Euro)\"])\n",
        "\n",
        "# Visulaize the prices for each group\n",
        "plt.hist(price_diff, alpha=0.5, label='different')\n",
        "plt.hist(price_same, alpha=0.5, label='same')\n",
        "plt.legend(loc='upper right')\n",
        "plt.show()\n",
        "\n",
        "# Finding the avarage price for each group\n",
        "print(\"Average price when the same comapny provide CPU is GPU:\", np.mean(price_same))\n",
        "print(\"Average price when different comapnies provide CPU is GPU:\", np.mean(price_diff))\n",
        "\n",
        "# Since I saw in the visualization that there are a few outliers, I wanted to know if when the CPU and GPU companies are the same the average price is still lower than when they are different\n",
        "print(\"Average price without 0.1 of outliers: \\nSame company:\", scipy.stats.trim_mean(price_same, 0.1), \"\\nDifferent company\", scipy.stats.trim_mean(price_diff, 0.1))\n",
        "\n"
      ]
    }
  ],
  "metadata": {
    "colab": {
      "provenance": []
    },
    "kernelspec": {
      "display_name": "Python 3",
      "language": "python",
      "name": "python3"
    },
    "language_info": {
      "codemirror_mode": {
        "name": "ipython",
        "version": 3
      },
      "file_extension": ".py",
      "mimetype": "text/x-python",
      "name": "python",
      "nbconvert_exporter": "python",
      "pygments_lexer": "ipython3",
      "version": "3.13.0"
    }
  },
  "nbformat": 4,
  "nbformat_minor": 0
}
